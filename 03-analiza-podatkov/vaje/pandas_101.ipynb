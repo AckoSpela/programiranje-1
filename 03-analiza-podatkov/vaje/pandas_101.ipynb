{
 "cells": [
  {
   "cell_type": "markdown",
   "metadata": {},
   "source": [
    "# Analiza podatkov s pandas\n",
    "\n",
    "[Pandas quick-start guide](http://pandas.pydata.org/pandas-docs/stable/10min.html)  \n",
    "[Pandas documentation](http://pandas.pydata.org/pandas-docs/stable/)  \n",
    "[Lecture notes on pandas](../predavanja/Analiza podatkov s knjižnico Pandas.ipynb)\n"
   ]
  },
  {
   "cell_type": "markdown",
   "metadata": {},
   "source": [
    "### Naložimo pandas in podatke"
   ]
  },
  {
   "cell_type": "code",
   "execution_count": 1,
   "metadata": {},
   "outputs": [],
   "source": [
    "# naložimo paket\n",
    "import pandas as pd\n",
    "\n",
    "# ker bomo delali z velikimi razpredelnicami, povemo, da naj se vedno izpiše le 10 vrstic\n",
    "pd.options.display.max_rows = 5\n",
    "\n",
    "# izberemo interaktivni \"notebook\" stil risanja\n",
    "%matplotlib inline\n",
    "\n",
    "# naložimo razpredelnico, s katero bomo delali\n",
    "filmi = pd.read_csv('../../02-zajem-podatkov/predavanja/obdelani-podatki/filmi.csv')"
   ]
  },
  {
   "cell_type": "markdown",
   "metadata": {},
   "source": [
    "Poglejmo si podatke."
   ]
  },
  {
   "cell_type": "code",
   "execution_count": 2,
   "metadata": {},
   "outputs": [
    {
     "data": {
      "text/html": [
       "<div>\n",
       "<style scoped>\n",
       "    .dataframe tbody tr th:only-of-type {\n",
       "        vertical-align: middle;\n",
       "    }\n",
       "\n",
       "    .dataframe tbody tr th {\n",
       "        vertical-align: top;\n",
       "    }\n",
       "\n",
       "    .dataframe thead th {\n",
       "        text-align: right;\n",
       "    }\n",
       "</style>\n",
       "<table border=\"1\" class=\"dataframe\">\n",
       "  <thead>\n",
       "    <tr style=\"text-align: right;\">\n",
       "      <th></th>\n",
       "      <th>id</th>\n",
       "      <th>naslov</th>\n",
       "      <th>dolzina</th>\n",
       "      <th>leto</th>\n",
       "      <th>ocena</th>\n",
       "      <th>metascore</th>\n",
       "      <th>glasovi</th>\n",
       "      <th>zasluzek</th>\n",
       "      <th>oznaka</th>\n",
       "      <th>opis</th>\n",
       "    </tr>\n",
       "  </thead>\n",
       "  <tbody>\n",
       "    <tr>\n",
       "      <td>0</td>\n",
       "      <td>4972</td>\n",
       "      <td>The Birth of a Nation</td>\n",
       "      <td>195</td>\n",
       "      <td>1915</td>\n",
       "      <td>6.4</td>\n",
       "      <td>NaN</td>\n",
       "      <td>20737</td>\n",
       "      <td>10000000.0</td>\n",
       "      <td>NaN</td>\n",
       "      <td>The Stoneman family finds its friendship with ...</td>\n",
       "    </tr>\n",
       "    <tr>\n",
       "      <td>1</td>\n",
       "      <td>6864</td>\n",
       "      <td>Intolerance: Love's Struggle Throughout the Ages</td>\n",
       "      <td>163</td>\n",
       "      <td>1916</td>\n",
       "      <td>7.8</td>\n",
       "      <td>92.0</td>\n",
       "      <td>13031</td>\n",
       "      <td>2180000.0</td>\n",
       "      <td>NaN</td>\n",
       "      <td>The story of a poor young woman, separated by ...</td>\n",
       "    </tr>\n",
       "    <tr>\n",
       "      <td>...</td>\n",
       "      <td>...</td>\n",
       "      <td>...</td>\n",
       "      <td>...</td>\n",
       "      <td>...</td>\n",
       "      <td>...</td>\n",
       "      <td>...</td>\n",
       "      <td>...</td>\n",
       "      <td>...</td>\n",
       "      <td>...</td>\n",
       "      <td>...</td>\n",
       "    </tr>\n",
       "    <tr>\n",
       "      <td>9998</td>\n",
       "      <td>9860728</td>\n",
       "      <td>Falling Inn Love</td>\n",
       "      <td>98</td>\n",
       "      <td>2019</td>\n",
       "      <td>5.6</td>\n",
       "      <td>NaN</td>\n",
       "      <td>7389</td>\n",
       "      <td>NaN</td>\n",
       "      <td>NaN</td>\n",
       "      <td>When city girl Gabriela spontaneously enters a...</td>\n",
       "    </tr>\n",
       "    <tr>\n",
       "      <td>9999</td>\n",
       "      <td>10324144</td>\n",
       "      <td>Article 15</td>\n",
       "      <td>130</td>\n",
       "      <td>2019</td>\n",
       "      <td>8.3</td>\n",
       "      <td>NaN</td>\n",
       "      <td>11001</td>\n",
       "      <td>NaN</td>\n",
       "      <td>NaN</td>\n",
       "      <td>In the rural heartlands of India, an upright p...</td>\n",
       "    </tr>\n",
       "  </tbody>\n",
       "</table>\n",
       "<p>10000 rows × 10 columns</p>\n",
       "</div>"
      ],
      "text/plain": [
       "            id                                            naslov  dolzina  \\\n",
       "0         4972                             The Birth of a Nation      195   \n",
       "1         6864  Intolerance: Love's Struggle Throughout the Ages      163   \n",
       "...        ...                                               ...      ...   \n",
       "9998   9860728                                  Falling Inn Love       98   \n",
       "9999  10324144                                        Article 15      130   \n",
       "\n",
       "      leto  ocena  metascore  glasovi    zasluzek oznaka  \\\n",
       "0     1915    6.4        NaN    20737  10000000.0    NaN   \n",
       "1     1916    7.8       92.0    13031   2180000.0    NaN   \n",
       "...    ...    ...        ...      ...         ...    ...   \n",
       "9998  2019    5.6        NaN     7389         NaN    NaN   \n",
       "9999  2019    8.3        NaN    11001         NaN    NaN   \n",
       "\n",
       "                                                   opis  \n",
       "0     The Stoneman family finds its friendship with ...  \n",
       "1     The story of a poor young woman, separated by ...  \n",
       "...                                                 ...  \n",
       "9998  When city girl Gabriela spontaneously enters a...  \n",
       "9999  In the rural heartlands of India, an upright p...  \n",
       "\n",
       "[10000 rows x 10 columns]"
      ]
     },
     "execution_count": 2,
     "metadata": {},
     "output_type": "execute_result"
    }
   ],
   "source": [
    "filmi"
   ]
  },
  {
   "cell_type": "markdown",
   "metadata": {},
   "source": [
    "## Proučevanje podatkov\n",
    "\n",
    "Razvrstite podatke po ocenah."
   ]
  },
  {
   "cell_type": "code",
   "execution_count": 3,
   "metadata": {},
   "outputs": [
    {
     "data": {
      "text/html": [
       "<div>\n",
       "<style scoped>\n",
       "    .dataframe tbody tr th:only-of-type {\n",
       "        vertical-align: middle;\n",
       "    }\n",
       "\n",
       "    .dataframe tbody tr th {\n",
       "        vertical-align: top;\n",
       "    }\n",
       "\n",
       "    .dataframe thead th {\n",
       "        text-align: right;\n",
       "    }\n",
       "</style>\n",
       "<table border=\"1\" class=\"dataframe\">\n",
       "  <thead>\n",
       "    <tr style=\"text-align: right;\">\n",
       "      <th></th>\n",
       "      <th>id</th>\n",
       "      <th>naslov</th>\n",
       "      <th>dolzina</th>\n",
       "      <th>leto</th>\n",
       "      <th>ocena</th>\n",
       "      <th>metascore</th>\n",
       "      <th>glasovi</th>\n",
       "      <th>zasluzek</th>\n",
       "      <th>oznaka</th>\n",
       "      <th>opis</th>\n",
       "    </tr>\n",
       "  </thead>\n",
       "  <tbody>\n",
       "    <tr>\n",
       "      <td>9896</td>\n",
       "      <td>7221896</td>\n",
       "      <td>Cumali Ceber: Allah Seni Alsin</td>\n",
       "      <td>100</td>\n",
       "      <td>2017</td>\n",
       "      <td>1.0</td>\n",
       "      <td>NaN</td>\n",
       "      <td>37198</td>\n",
       "      <td>NaN</td>\n",
       "      <td>NaN</td>\n",
       "      <td>Cumali Ceber goes to a vacation with his child...</td>\n",
       "    </tr>\n",
       "    <tr>\n",
       "      <td>9237</td>\n",
       "      <td>4009460</td>\n",
       "      <td>Saving Christmas</td>\n",
       "      <td>79</td>\n",
       "      <td>2014</td>\n",
       "      <td>1.4</td>\n",
       "      <td>18.0</td>\n",
       "      <td>14365</td>\n",
       "      <td>2783970.0</td>\n",
       "      <td>PG</td>\n",
       "      <td>His annual Christmas party faltering thanks to...</td>\n",
       "    </tr>\n",
       "    <tr>\n",
       "      <td>...</td>\n",
       "      <td>...</td>\n",
       "      <td>...</td>\n",
       "      <td>...</td>\n",
       "      <td>...</td>\n",
       "      <td>...</td>\n",
       "      <td>...</td>\n",
       "      <td>...</td>\n",
       "      <td>...</td>\n",
       "      <td>...</td>\n",
       "      <td>...</td>\n",
       "    </tr>\n",
       "    <tr>\n",
       "      <td>4196</td>\n",
       "      <td>252487</td>\n",
       "      <td>Hababam Sinifi</td>\n",
       "      <td>87</td>\n",
       "      <td>1975</td>\n",
       "      <td>9.4</td>\n",
       "      <td>NaN</td>\n",
       "      <td>34256</td>\n",
       "      <td>NaN</td>\n",
       "      <td>NaN</td>\n",
       "      <td>Lazy, uneducated students share a very close b...</td>\n",
       "    </tr>\n",
       "    <tr>\n",
       "      <td>9902</td>\n",
       "      <td>7286456</td>\n",
       "      <td>Joker</td>\n",
       "      <td>122</td>\n",
       "      <td>2019</td>\n",
       "      <td>9.5</td>\n",
       "      <td>70.0</td>\n",
       "      <td>14789</td>\n",
       "      <td>NaN</td>\n",
       "      <td>R</td>\n",
       "      <td>An original standalone origin story of the ico...</td>\n",
       "    </tr>\n",
       "  </tbody>\n",
       "</table>\n",
       "<p>10000 rows × 10 columns</p>\n",
       "</div>"
      ],
      "text/plain": [
       "           id                          naslov  dolzina  leto  ocena  \\\n",
       "9896  7221896  Cumali Ceber: Allah Seni Alsin      100  2017    1.0   \n",
       "9237  4009460                Saving Christmas       79  2014    1.4   \n",
       "...       ...                             ...      ...   ...    ...   \n",
       "4196   252487                  Hababam Sinifi       87  1975    9.4   \n",
       "9902  7286456                           Joker      122  2019    9.5   \n",
       "\n",
       "      metascore  glasovi   zasluzek oznaka  \\\n",
       "9896        NaN    37198        NaN    NaN   \n",
       "9237       18.0    14365  2783970.0     PG   \n",
       "...         ...      ...        ...    ...   \n",
       "4196        NaN    34256        NaN    NaN   \n",
       "9902       70.0    14789        NaN      R   \n",
       "\n",
       "                                                   opis  \n",
       "9896  Cumali Ceber goes to a vacation with his child...  \n",
       "9237  His annual Christmas party faltering thanks to...  \n",
       "...                                                 ...  \n",
       "4196  Lazy, uneducated students share a very close b...  \n",
       "9902  An original standalone origin story of the ico...  \n",
       "\n",
       "[10000 rows x 10 columns]"
      ]
     },
     "execution_count": 3,
     "metadata": {},
     "output_type": "execute_result"
    }
   ],
   "source": [
    "filmi.sort_values([\"ocena\", \"dolzina\"])"
   ]
  },
  {
   "cell_type": "code",
   "execution_count": 4,
   "metadata": {
    "scrolled": true
   },
   "outputs": [
    {
     "data": {
      "text/html": [
       "<div>\n",
       "<style scoped>\n",
       "    .dataframe tbody tr th:only-of-type {\n",
       "        vertical-align: middle;\n",
       "    }\n",
       "\n",
       "    .dataframe tbody tr th {\n",
       "        vertical-align: top;\n",
       "    }\n",
       "\n",
       "    .dataframe thead th {\n",
       "        text-align: right;\n",
       "    }\n",
       "</style>\n",
       "<table border=\"1\" class=\"dataframe\">\n",
       "  <thead>\n",
       "    <tr style=\"text-align: right;\">\n",
       "      <th></th>\n",
       "      <th>id</th>\n",
       "      <th>naslov</th>\n",
       "      <th>dolzina</th>\n",
       "      <th>leto</th>\n",
       "      <th>ocena</th>\n",
       "      <th>metascore</th>\n",
       "      <th>glasovi</th>\n",
       "      <th>zasluzek</th>\n",
       "      <th>oznaka</th>\n",
       "      <th>opis</th>\n",
       "    </tr>\n",
       "  </thead>\n",
       "  <tbody>\n",
       "    <tr>\n",
       "      <td>0</td>\n",
       "      <td>4972</td>\n",
       "      <td>The Birth of a Nation</td>\n",
       "      <td>195</td>\n",
       "      <td>1915</td>\n",
       "      <td>6.4</td>\n",
       "      <td>NaN</td>\n",
       "      <td>20737</td>\n",
       "      <td>10000000.0</td>\n",
       "      <td>NaN</td>\n",
       "      <td>The Stoneman family finds its friendship with ...</td>\n",
       "    </tr>\n",
       "    <tr>\n",
       "      <td>1</td>\n",
       "      <td>6864</td>\n",
       "      <td>Intolerance: Love's Struggle Throughout the Ages</td>\n",
       "      <td>163</td>\n",
       "      <td>1916</td>\n",
       "      <td>7.8</td>\n",
       "      <td>92.0</td>\n",
       "      <td>13031</td>\n",
       "      <td>2180000.0</td>\n",
       "      <td>NaN</td>\n",
       "      <td>The story of a poor young woman, separated by ...</td>\n",
       "    </tr>\n",
       "    <tr>\n",
       "      <td>...</td>\n",
       "      <td>...</td>\n",
       "      <td>...</td>\n",
       "      <td>...</td>\n",
       "      <td>...</td>\n",
       "      <td>...</td>\n",
       "      <td>...</td>\n",
       "      <td>...</td>\n",
       "      <td>...</td>\n",
       "      <td>...</td>\n",
       "      <td>...</td>\n",
       "    </tr>\n",
       "    <tr>\n",
       "      <td>9998</td>\n",
       "      <td>9860728</td>\n",
       "      <td>Falling Inn Love</td>\n",
       "      <td>98</td>\n",
       "      <td>2019</td>\n",
       "      <td>5.6</td>\n",
       "      <td>NaN</td>\n",
       "      <td>7389</td>\n",
       "      <td>NaN</td>\n",
       "      <td>NaN</td>\n",
       "      <td>When city girl Gabriela spontaneously enters a...</td>\n",
       "    </tr>\n",
       "    <tr>\n",
       "      <td>9999</td>\n",
       "      <td>10324144</td>\n",
       "      <td>Article 15</td>\n",
       "      <td>130</td>\n",
       "      <td>2019</td>\n",
       "      <td>8.3</td>\n",
       "      <td>NaN</td>\n",
       "      <td>11001</td>\n",
       "      <td>NaN</td>\n",
       "      <td>NaN</td>\n",
       "      <td>In the rural heartlands of India, an upright p...</td>\n",
       "    </tr>\n",
       "  </tbody>\n",
       "</table>\n",
       "<p>10000 rows × 10 columns</p>\n",
       "</div>"
      ],
      "text/plain": [
       "            id                                            naslov  dolzina  \\\n",
       "0         4972                             The Birth of a Nation      195   \n",
       "1         6864  Intolerance: Love's Struggle Throughout the Ages      163   \n",
       "...        ...                                               ...      ...   \n",
       "9998   9860728                                  Falling Inn Love       98   \n",
       "9999  10324144                                        Article 15      130   \n",
       "\n",
       "      leto  ocena  metascore  glasovi    zasluzek oznaka  \\\n",
       "0     1915    6.4        NaN    20737  10000000.0    NaN   \n",
       "1     1916    7.8       92.0    13031   2180000.0    NaN   \n",
       "...    ...    ...        ...      ...         ...    ...   \n",
       "9998  2019    5.6        NaN     7389         NaN    NaN   \n",
       "9999  2019    8.3        NaN    11001         NaN    NaN   \n",
       "\n",
       "                                                   opis  \n",
       "0     The Stoneman family finds its friendship with ...  \n",
       "1     The story of a poor young woman, separated by ...  \n",
       "...                                                 ...  \n",
       "9998  When city girl Gabriela spontaneously enters a...  \n",
       "9999  In the rural heartlands of India, an upright p...  \n",
       "\n",
       "[10000 rows x 10 columns]"
      ]
     },
     "execution_count": 4,
     "metadata": {},
     "output_type": "execute_result"
    }
   ],
   "source": [
    "filmi"
   ]
  },
  {
   "cell_type": "markdown",
   "metadata": {},
   "source": [
    "Poberite stolpec ocen."
   ]
  },
  {
   "cell_type": "code",
   "execution_count": 5,
   "metadata": {},
   "outputs": [
    {
     "data": {
      "text/plain": [
       "0       6.4\n",
       "1       7.8\n",
       "       ... \n",
       "9998    5.6\n",
       "9999    8.3\n",
       "Name: ocena, Length: 10000, dtype: float64"
      ]
     },
     "execution_count": 5,
     "metadata": {},
     "output_type": "execute_result"
    }
   ],
   "source": [
    "ocene = filmi[\"ocena\"]\n",
    "ocene"
   ]
  },
  {
   "cell_type": "markdown",
   "metadata": {},
   "source": [
    "Ukaza `filmi['ocena']` in `filmi[['ocena']]` sta različna:"
   ]
  },
  {
   "cell_type": "code",
   "execution_count": 6,
   "metadata": {},
   "outputs": [
    {
     "name": "stdout",
     "output_type": "stream",
     "text": [
      "<class 'pandas.core.series.Series'>\n",
      "<class 'pandas.core.frame.DataFrame'>\n"
     ]
    }
   ],
   "source": [
    "print(type(filmi['ocena']))\n",
    "print(type(filmi[['ocena']]))"
   ]
  },
  {
   "cell_type": "markdown",
   "metadata": {},
   "source": [
    "Stolpci objekta `DataFrame` so tipa `Series`. Z enojnimi oklepaji poberemo `Series`, z dvojnimi oklepaji pa `DataFrame` podtabelo. Večina operacij (grouping, joining, plotting,  filtering, ...) deluje na `DataFrame`. \n",
    "\n",
    "Tip `Series` se uporablja ko želimo npr. dodati stolpec."
   ]
  },
  {
   "cell_type": "markdown",
   "metadata": {},
   "source": [
    "Zaokrožite stolpec ocen z funkcijo `round()`."
   ]
  },
  {
   "cell_type": "code",
   "execution_count": 7,
   "metadata": {},
   "outputs": [
    {
     "data": {
      "text/plain": [
       "0       6.0\n",
       "1       8.0\n",
       "       ... \n",
       "9998    6.0\n",
       "9999    8.0\n",
       "Name: ocena, Length: 10000, dtype: float64"
      ]
     },
     "execution_count": 7,
     "metadata": {},
     "output_type": "execute_result"
    }
   ],
   "source": [
    "zaokrozeno = round(ocene)\n",
    "zaokrozeno"
   ]
  },
  {
   "cell_type": "markdown",
   "metadata": {},
   "source": [
    "Dodajte zaokrožene vrednosti v podatke."
   ]
  },
  {
   "cell_type": "code",
   "execution_count": 8,
   "metadata": {},
   "outputs": [
    {
     "data": {
      "text/html": [
       "<div>\n",
       "<style scoped>\n",
       "    .dataframe tbody tr th:only-of-type {\n",
       "        vertical-align: middle;\n",
       "    }\n",
       "\n",
       "    .dataframe tbody tr th {\n",
       "        vertical-align: top;\n",
       "    }\n",
       "\n",
       "    .dataframe thead th {\n",
       "        text-align: right;\n",
       "    }\n",
       "</style>\n",
       "<table border=\"1\" class=\"dataframe\">\n",
       "  <thead>\n",
       "    <tr style=\"text-align: right;\">\n",
       "      <th></th>\n",
       "      <th>id</th>\n",
       "      <th>naslov</th>\n",
       "      <th>dolzina</th>\n",
       "      <th>leto</th>\n",
       "      <th>ocena</th>\n",
       "      <th>metascore</th>\n",
       "      <th>glasovi</th>\n",
       "      <th>zasluzek</th>\n",
       "      <th>oznaka</th>\n",
       "      <th>opis</th>\n",
       "      <th>zaokrozeno</th>\n",
       "    </tr>\n",
       "  </thead>\n",
       "  <tbody>\n",
       "    <tr>\n",
       "      <td>0</td>\n",
       "      <td>4972</td>\n",
       "      <td>The Birth of a Nation</td>\n",
       "      <td>195</td>\n",
       "      <td>1915</td>\n",
       "      <td>6.4</td>\n",
       "      <td>NaN</td>\n",
       "      <td>20737</td>\n",
       "      <td>10000000.0</td>\n",
       "      <td>NaN</td>\n",
       "      <td>The Stoneman family finds its friendship with ...</td>\n",
       "      <td>6.0</td>\n",
       "    </tr>\n",
       "    <tr>\n",
       "      <td>1</td>\n",
       "      <td>6864</td>\n",
       "      <td>Intolerance: Love's Struggle Throughout the Ages</td>\n",
       "      <td>163</td>\n",
       "      <td>1916</td>\n",
       "      <td>7.8</td>\n",
       "      <td>92.0</td>\n",
       "      <td>13031</td>\n",
       "      <td>2180000.0</td>\n",
       "      <td>NaN</td>\n",
       "      <td>The story of a poor young woman, separated by ...</td>\n",
       "      <td>8.0</td>\n",
       "    </tr>\n",
       "    <tr>\n",
       "      <td>...</td>\n",
       "      <td>...</td>\n",
       "      <td>...</td>\n",
       "      <td>...</td>\n",
       "      <td>...</td>\n",
       "      <td>...</td>\n",
       "      <td>...</td>\n",
       "      <td>...</td>\n",
       "      <td>...</td>\n",
       "      <td>...</td>\n",
       "      <td>...</td>\n",
       "      <td>...</td>\n",
       "    </tr>\n",
       "    <tr>\n",
       "      <td>9998</td>\n",
       "      <td>9860728</td>\n",
       "      <td>Falling Inn Love</td>\n",
       "      <td>98</td>\n",
       "      <td>2019</td>\n",
       "      <td>5.6</td>\n",
       "      <td>NaN</td>\n",
       "      <td>7389</td>\n",
       "      <td>NaN</td>\n",
       "      <td>NaN</td>\n",
       "      <td>When city girl Gabriela spontaneously enters a...</td>\n",
       "      <td>6.0</td>\n",
       "    </tr>\n",
       "    <tr>\n",
       "      <td>9999</td>\n",
       "      <td>10324144</td>\n",
       "      <td>Article 15</td>\n",
       "      <td>130</td>\n",
       "      <td>2019</td>\n",
       "      <td>8.3</td>\n",
       "      <td>NaN</td>\n",
       "      <td>11001</td>\n",
       "      <td>NaN</td>\n",
       "      <td>NaN</td>\n",
       "      <td>In the rural heartlands of India, an upright p...</td>\n",
       "      <td>8.0</td>\n",
       "    </tr>\n",
       "  </tbody>\n",
       "</table>\n",
       "<p>10000 rows × 11 columns</p>\n",
       "</div>"
      ],
      "text/plain": [
       "            id                                            naslov  dolzina  \\\n",
       "0         4972                             The Birth of a Nation      195   \n",
       "1         6864  Intolerance: Love's Struggle Throughout the Ages      163   \n",
       "...        ...                                               ...      ...   \n",
       "9998   9860728                                  Falling Inn Love       98   \n",
       "9999  10324144                                        Article 15      130   \n",
       "\n",
       "      leto  ocena  metascore  glasovi    zasluzek oznaka  \\\n",
       "0     1915    6.4        NaN    20737  10000000.0    NaN   \n",
       "1     1916    7.8       92.0    13031   2180000.0    NaN   \n",
       "...    ...    ...        ...      ...         ...    ...   \n",
       "9998  2019    5.6        NaN     7389         NaN    NaN   \n",
       "9999  2019    8.3        NaN    11001         NaN    NaN   \n",
       "\n",
       "                                                   opis  zaokrozeno  \n",
       "0     The Stoneman family finds its friendship with ...         6.0  \n",
       "1     The story of a poor young woman, separated by ...         8.0  \n",
       "...                                                 ...         ...  \n",
       "9998  When city girl Gabriela spontaneously enters a...         6.0  \n",
       "9999  In the rural heartlands of India, an upright p...         8.0  \n",
       "\n",
       "[10000 rows x 11 columns]"
      ]
     },
     "execution_count": 8,
     "metadata": {},
     "output_type": "execute_result"
    }
   ],
   "source": [
    "filmi[\"zaokrozeno\"] = zaokrozeno\n",
    "filmi"
   ]
  },
  {
   "cell_type": "markdown",
   "metadata": {},
   "source": [
    "Odstranite novo dodani stolpec z metodo `.drop()` z podanim `columns = ` argumentom."
   ]
  },
  {
   "cell_type": "code",
   "execution_count": 9,
   "metadata": {},
   "outputs": [
    {
     "data": {
      "text/html": [
       "<div>\n",
       "<style scoped>\n",
       "    .dataframe tbody tr th:only-of-type {\n",
       "        vertical-align: middle;\n",
       "    }\n",
       "\n",
       "    .dataframe tbody tr th {\n",
       "        vertical-align: top;\n",
       "    }\n",
       "\n",
       "    .dataframe thead th {\n",
       "        text-align: right;\n",
       "    }\n",
       "</style>\n",
       "<table border=\"1\" class=\"dataframe\">\n",
       "  <thead>\n",
       "    <tr style=\"text-align: right;\">\n",
       "      <th></th>\n",
       "      <th>id</th>\n",
       "      <th>naslov</th>\n",
       "      <th>dolzina</th>\n",
       "      <th>leto</th>\n",
       "      <th>ocena</th>\n",
       "      <th>metascore</th>\n",
       "      <th>glasovi</th>\n",
       "      <th>zasluzek</th>\n",
       "      <th>oznaka</th>\n",
       "      <th>opis</th>\n",
       "      <th>zaokrozeno</th>\n",
       "    </tr>\n",
       "  </thead>\n",
       "  <tbody>\n",
       "    <tr>\n",
       "      <td>0</td>\n",
       "      <td>4972</td>\n",
       "      <td>The Birth of a Nation</td>\n",
       "      <td>195</td>\n",
       "      <td>1915</td>\n",
       "      <td>6.4</td>\n",
       "      <td>NaN</td>\n",
       "      <td>20737</td>\n",
       "      <td>10000000.0</td>\n",
       "      <td>NaN</td>\n",
       "      <td>The Stoneman family finds its friendship with ...</td>\n",
       "      <td>6.0</td>\n",
       "    </tr>\n",
       "    <tr>\n",
       "      <td>1</td>\n",
       "      <td>6864</td>\n",
       "      <td>Intolerance: Love's Struggle Throughout the Ages</td>\n",
       "      <td>163</td>\n",
       "      <td>1916</td>\n",
       "      <td>7.8</td>\n",
       "      <td>92.0</td>\n",
       "      <td>13031</td>\n",
       "      <td>2180000.0</td>\n",
       "      <td>NaN</td>\n",
       "      <td>The story of a poor young woman, separated by ...</td>\n",
       "      <td>8.0</td>\n",
       "    </tr>\n",
       "    <tr>\n",
       "      <td>...</td>\n",
       "      <td>...</td>\n",
       "      <td>...</td>\n",
       "      <td>...</td>\n",
       "      <td>...</td>\n",
       "      <td>...</td>\n",
       "      <td>...</td>\n",
       "      <td>...</td>\n",
       "      <td>...</td>\n",
       "      <td>...</td>\n",
       "      <td>...</td>\n",
       "      <td>...</td>\n",
       "    </tr>\n",
       "    <tr>\n",
       "      <td>9998</td>\n",
       "      <td>9860728</td>\n",
       "      <td>Falling Inn Love</td>\n",
       "      <td>98</td>\n",
       "      <td>2019</td>\n",
       "      <td>5.6</td>\n",
       "      <td>NaN</td>\n",
       "      <td>7389</td>\n",
       "      <td>NaN</td>\n",
       "      <td>NaN</td>\n",
       "      <td>When city girl Gabriela spontaneously enters a...</td>\n",
       "      <td>6.0</td>\n",
       "    </tr>\n",
       "    <tr>\n",
       "      <td>9999</td>\n",
       "      <td>10324144</td>\n",
       "      <td>Article 15</td>\n",
       "      <td>130</td>\n",
       "      <td>2019</td>\n",
       "      <td>8.3</td>\n",
       "      <td>NaN</td>\n",
       "      <td>11001</td>\n",
       "      <td>NaN</td>\n",
       "      <td>NaN</td>\n",
       "      <td>In the rural heartlands of India, an upright p...</td>\n",
       "      <td>8.0</td>\n",
       "    </tr>\n",
       "  </tbody>\n",
       "</table>\n",
       "<p>10000 rows × 11 columns</p>\n",
       "</div>"
      ],
      "text/plain": [
       "            id                                            naslov  dolzina  \\\n",
       "0         4972                             The Birth of a Nation      195   \n",
       "1         6864  Intolerance: Love's Struggle Throughout the Ages      163   \n",
       "...        ...                                               ...      ...   \n",
       "9998   9860728                                  Falling Inn Love       98   \n",
       "9999  10324144                                        Article 15      130   \n",
       "\n",
       "      leto  ocena  metascore  glasovi    zasluzek oznaka  \\\n",
       "0     1915    6.4        NaN    20737  10000000.0    NaN   \n",
       "1     1916    7.8       92.0    13031   2180000.0    NaN   \n",
       "...    ...    ...        ...      ...         ...    ...   \n",
       "9998  2019    5.6        NaN     7389         NaN    NaN   \n",
       "9999  2019    8.3        NaN    11001         NaN    NaN   \n",
       "\n",
       "                                                   opis  zaokrozeno  \n",
       "0     The Stoneman family finds its friendship with ...         6.0  \n",
       "1     The story of a poor young woman, separated by ...         8.0  \n",
       "...                                                 ...         ...  \n",
       "9998  When city girl Gabriela spontaneously enters a...         6.0  \n",
       "9999  In the rural heartlands of India, an upright p...         8.0  \n",
       "\n",
       "[10000 rows x 11 columns]"
      ]
     },
     "execution_count": 9,
     "metadata": {},
     "output_type": "execute_result"
    }
   ],
   "source": [
    "filmi.drop(columns = \"zaokrozeno\")\n",
    "filmi"
   ]
  },
  {
   "cell_type": "code",
   "execution_count": 10,
   "metadata": {},
   "outputs": [],
   "source": [
    "del filmi[\"zaokrozeno\"]"
   ]
  },
  {
   "cell_type": "markdown",
   "metadata": {},
   "source": [
    "### Opomba: slice\n",
    "Izbira podtabele ustvari t.i. \"rezino\" oz. \"slice\".\n",
    "Slice ni kopija tabele, temveč zgolj sklic na izvorno tabelo,\n",
    "in je zato ne moremo spreminjati.\n",
    "Če želimo kopijo, uporabimo metodo `.copy()` na rezini, ki jo nato lahko spreminjamo.\n"
   ]
  },
  {
   "cell_type": "code",
   "execution_count": 11,
   "metadata": {},
   "outputs": [
    {
     "data": {
      "text/html": [
       "<div>\n",
       "<style scoped>\n",
       "    .dataframe tbody tr th:only-of-type {\n",
       "        vertical-align: middle;\n",
       "    }\n",
       "\n",
       "    .dataframe tbody tr th {\n",
       "        vertical-align: top;\n",
       "    }\n",
       "\n",
       "    .dataframe thead th {\n",
       "        text-align: right;\n",
       "    }\n",
       "</style>\n",
       "<table border=\"1\" class=\"dataframe\">\n",
       "  <thead>\n",
       "    <tr style=\"text-align: right;\">\n",
       "      <th></th>\n",
       "      <th>leto</th>\n",
       "      <th>naslov</th>\n",
       "      <th>ocena</th>\n",
       "    </tr>\n",
       "  </thead>\n",
       "  <tbody>\n",
       "    <tr>\n",
       "      <td>0</td>\n",
       "      <td>1915</td>\n",
       "      <td>The Birth of a Nation</td>\n",
       "      <td>6.4</td>\n",
       "    </tr>\n",
       "    <tr>\n",
       "      <td>1</td>\n",
       "      <td>1916</td>\n",
       "      <td>Intolerance: Love's Struggle Throughout the Ages</td>\n",
       "      <td>7.8</td>\n",
       "    </tr>\n",
       "    <tr>\n",
       "      <td>...</td>\n",
       "      <td>...</td>\n",
       "      <td>...</td>\n",
       "      <td>...</td>\n",
       "    </tr>\n",
       "    <tr>\n",
       "      <td>9998</td>\n",
       "      <td>2019</td>\n",
       "      <td>Falling Inn Love</td>\n",
       "      <td>5.6</td>\n",
       "    </tr>\n",
       "    <tr>\n",
       "      <td>9999</td>\n",
       "      <td>2019</td>\n",
       "      <td>Article 15</td>\n",
       "      <td>8.3</td>\n",
       "    </tr>\n",
       "  </tbody>\n",
       "</table>\n",
       "<p>10000 rows × 3 columns</p>\n",
       "</div>"
      ],
      "text/plain": [
       "      leto                                            naslov  ocena\n",
       "0     1915                             The Birth of a Nation    6.4\n",
       "1     1916  Intolerance: Love's Struggle Throughout the Ages    7.8\n",
       "...    ...                                               ...    ...\n",
       "9998  2019                                  Falling Inn Love    5.6\n",
       "9999  2019                                        Article 15    8.3\n",
       "\n",
       "[10000 rows x 3 columns]"
      ]
     },
     "execution_count": 11,
     "metadata": {},
     "output_type": "execute_result"
    }
   ],
   "source": [
    "filmi[  [\"leto\", \"naslov\", \"ocena\"]  ]"
   ]
  },
  {
   "cell_type": "markdown",
   "metadata": {},
   "source": [
    "Izberite podtabelo s stolpci `naslov`, `leto`, in `glasovi`, kateri nato dodate solpec z zaokroženimi ocenami."
   ]
  },
  {
   "cell_type": "code",
   "execution_count": null,
   "metadata": {},
   "outputs": [],
   "source": []
  },
  {
   "cell_type": "markdown",
   "metadata": {},
   "source": [
    "### Filtracija\n",
    "\n",
    "Ustvarite filter, ki izbere filme, ki so izšli pred 1930, in filter za filme po 2017.\n",
    "Združite ju za izbor filmov, ki so izšli pred 1930 ali po 2017."
   ]
  },
  {
   "cell_type": "code",
   "execution_count": 12,
   "metadata": {},
   "outputs": [
    {
     "data": {
      "text/html": [
       "<div>\n",
       "<style scoped>\n",
       "    .dataframe tbody tr th:only-of-type {\n",
       "        vertical-align: middle;\n",
       "    }\n",
       "\n",
       "    .dataframe tbody tr th {\n",
       "        vertical-align: top;\n",
       "    }\n",
       "\n",
       "    .dataframe thead th {\n",
       "        text-align: right;\n",
       "    }\n",
       "</style>\n",
       "<table border=\"1\" class=\"dataframe\">\n",
       "  <thead>\n",
       "    <tr style=\"text-align: right;\">\n",
       "      <th></th>\n",
       "      <th>id</th>\n",
       "      <th>naslov</th>\n",
       "      <th>dolzina</th>\n",
       "      <th>leto</th>\n",
       "      <th>ocena</th>\n",
       "      <th>metascore</th>\n",
       "      <th>glasovi</th>\n",
       "      <th>zasluzek</th>\n",
       "      <th>oznaka</th>\n",
       "      <th>opis</th>\n",
       "    </tr>\n",
       "  </thead>\n",
       "  <tbody>\n",
       "    <tr>\n",
       "      <td>3</td>\n",
       "      <td>10323</td>\n",
       "      <td>Das Cabinet des Dr. Caligari</td>\n",
       "      <td>76</td>\n",
       "      <td>1920</td>\n",
       "      <td>8.1</td>\n",
       "      <td>NaN</td>\n",
       "      <td>50866</td>\n",
       "      <td>NaN</td>\n",
       "      <td>NaN</td>\n",
       "      <td>Hypnotist Dr. Caligari uses a somnambulist, Ce...</td>\n",
       "    </tr>\n",
       "    <tr>\n",
       "      <td>4</td>\n",
       "      <td>12349</td>\n",
       "      <td>The Kid</td>\n",
       "      <td>68</td>\n",
       "      <td>1921</td>\n",
       "      <td>8.3</td>\n",
       "      <td>NaN</td>\n",
       "      <td>100210</td>\n",
       "      <td>5450000.0</td>\n",
       "      <td>NaN</td>\n",
       "      <td>The Tramp cares for an abandoned child, but ev...</td>\n",
       "    </tr>\n",
       "    <tr>\n",
       "      <td>...</td>\n",
       "      <td>...</td>\n",
       "      <td>...</td>\n",
       "      <td>...</td>\n",
       "      <td>...</td>\n",
       "      <td>...</td>\n",
       "      <td>...</td>\n",
       "      <td>...</td>\n",
       "      <td>...</td>\n",
       "      <td>...</td>\n",
       "      <td>...</td>\n",
       "    </tr>\n",
       "    <tr>\n",
       "      <td>9994</td>\n",
       "      <td>9052870</td>\n",
       "      <td>Chhichhore</td>\n",
       "      <td>143</td>\n",
       "      <td>2019</td>\n",
       "      <td>8.6</td>\n",
       "      <td>NaN</td>\n",
       "      <td>6719</td>\n",
       "      <td>898575.0</td>\n",
       "      <td>NaN</td>\n",
       "      <td>Following a group of friends from university a...</td>\n",
       "    </tr>\n",
       "    <tr>\n",
       "      <td>9999</td>\n",
       "      <td>10324144</td>\n",
       "      <td>Article 15</td>\n",
       "      <td>130</td>\n",
       "      <td>2019</td>\n",
       "      <td>8.3</td>\n",
       "      <td>NaN</td>\n",
       "      <td>11001</td>\n",
       "      <td>NaN</td>\n",
       "      <td>NaN</td>\n",
       "      <td>In the rural heartlands of India, an upright p...</td>\n",
       "    </tr>\n",
       "  </tbody>\n",
       "</table>\n",
       "<p>41 rows × 10 columns</p>\n",
       "</div>"
      ],
      "text/plain": [
       "            id                        naslov  dolzina  leto  ocena  metascore  \\\n",
       "3        10323  Das Cabinet des Dr. Caligari       76  1920    8.1        NaN   \n",
       "4        12349                       The Kid       68  1921    8.3        NaN   \n",
       "...        ...                           ...      ...   ...    ...        ...   \n",
       "9994   9052870                    Chhichhore      143  2019    8.6        NaN   \n",
       "9999  10324144                    Article 15      130  2019    8.3        NaN   \n",
       "\n",
       "      glasovi   zasluzek oznaka  \\\n",
       "3       50866        NaN    NaN   \n",
       "4      100210  5450000.0    NaN   \n",
       "...       ...        ...    ...   \n",
       "9994     6719   898575.0    NaN   \n",
       "9999    11001        NaN    NaN   \n",
       "\n",
       "                                                   opis  \n",
       "3     Hypnotist Dr. Caligari uses a somnambulist, Ce...  \n",
       "4     The Tramp cares for an abandoned child, but ev...  \n",
       "...                                                 ...  \n",
       "9994  Following a group of friends from university a...  \n",
       "9999  In the rural heartlands of India, an upright p...  \n",
       "\n",
       "[41 rows x 10 columns]"
      ]
     },
     "execution_count": 12,
     "metadata": {},
     "output_type": "execute_result"
    }
   ],
   "source": [
    "stari = filmi[\"leto\"] < 1930\n",
    "novi = filmi[\"leto\"] > 2017\n",
    "ocene = filmi[\"ocena\"] > 8\n",
    "filmi[(stari | novi) & ocene]"
   ]
  },
  {
   "cell_type": "markdown",
   "metadata": {},
   "source": [
    "Definirajte funkcijo, ki preveri ali niz vsebuje kvečjemu dve besedi. Nato s pomočjo `.apply()` izberite vse filme z imeni krajšimi od dveh besed in oceno nad 8."
   ]
  },
  {
   "cell_type": "code",
   "execution_count": 13,
   "metadata": {},
   "outputs": [
    {
     "data": {
      "text/html": [
       "<div>\n",
       "<style scoped>\n",
       "    .dataframe tbody tr th:only-of-type {\n",
       "        vertical-align: middle;\n",
       "    }\n",
       "\n",
       "    .dataframe tbody tr th {\n",
       "        vertical-align: top;\n",
       "    }\n",
       "\n",
       "    .dataframe thead th {\n",
       "        text-align: right;\n",
       "    }\n",
       "</style>\n",
       "<table border=\"1\" class=\"dataframe\">\n",
       "  <thead>\n",
       "    <tr style=\"text-align: right;\">\n",
       "      <th></th>\n",
       "      <th>id</th>\n",
       "      <th>naslov</th>\n",
       "      <th>dolzina</th>\n",
       "      <th>leto</th>\n",
       "      <th>ocena</th>\n",
       "      <th>metascore</th>\n",
       "      <th>glasovi</th>\n",
       "      <th>zasluzek</th>\n",
       "      <th>oznaka</th>\n",
       "      <th>opis</th>\n",
       "    </tr>\n",
       "  </thead>\n",
       "  <tbody>\n",
       "    <tr>\n",
       "      <td>4</td>\n",
       "      <td>12349</td>\n",
       "      <td>The Kid</td>\n",
       "      <td>68</td>\n",
       "      <td>1921</td>\n",
       "      <td>8.3</td>\n",
       "      <td>NaN</td>\n",
       "      <td>100210</td>\n",
       "      <td>5450000.0</td>\n",
       "      <td>NaN</td>\n",
       "      <td>The Tramp cares for an abandoned child, but ev...</td>\n",
       "    </tr>\n",
       "    <tr>\n",
       "      <td>5</td>\n",
       "      <td>12364</td>\n",
       "      <td>Körkarlen</td>\n",
       "      <td>100</td>\n",
       "      <td>1921</td>\n",
       "      <td>8.1</td>\n",
       "      <td>NaN</td>\n",
       "      <td>9106</td>\n",
       "      <td>NaN</td>\n",
       "      <td>NaN</td>\n",
       "      <td>On New Year's Eve, the driver of a ghostly car...</td>\n",
       "    </tr>\n",
       "    <tr>\n",
       "      <td>...</td>\n",
       "      <td>...</td>\n",
       "      <td>...</td>\n",
       "      <td>...</td>\n",
       "      <td>...</td>\n",
       "      <td>...</td>\n",
       "      <td>...</td>\n",
       "      <td>...</td>\n",
       "      <td>...</td>\n",
       "      <td>...</td>\n",
       "      <td>...</td>\n",
       "    </tr>\n",
       "    <tr>\n",
       "      <td>9994</td>\n",
       "      <td>9052870</td>\n",
       "      <td>Chhichhore</td>\n",
       "      <td>143</td>\n",
       "      <td>2019</td>\n",
       "      <td>8.6</td>\n",
       "      <td>NaN</td>\n",
       "      <td>6719</td>\n",
       "      <td>898575.0</td>\n",
       "      <td>NaN</td>\n",
       "      <td>Following a group of friends from university a...</td>\n",
       "    </tr>\n",
       "    <tr>\n",
       "      <td>9999</td>\n",
       "      <td>10324144</td>\n",
       "      <td>Article 15</td>\n",
       "      <td>130</td>\n",
       "      <td>2019</td>\n",
       "      <td>8.3</td>\n",
       "      <td>NaN</td>\n",
       "      <td>11001</td>\n",
       "      <td>NaN</td>\n",
       "      <td>NaN</td>\n",
       "      <td>In the rural heartlands of India, an upright p...</td>\n",
       "    </tr>\n",
       "  </tbody>\n",
       "</table>\n",
       "<p>300 rows × 10 columns</p>\n",
       "</div>"
      ],
      "text/plain": [
       "            id      naslov  dolzina  leto  ocena  metascore  glasovi  \\\n",
       "4        12349     The Kid       68  1921    8.3        NaN   100210   \n",
       "5        12364   Körkarlen      100  1921    8.1        NaN     9106   \n",
       "...        ...         ...      ...   ...    ...        ...      ...   \n",
       "9994   9052870  Chhichhore      143  2019    8.6        NaN     6719   \n",
       "9999  10324144  Article 15      130  2019    8.3        NaN    11001   \n",
       "\n",
       "       zasluzek oznaka                                               opis  \n",
       "4     5450000.0    NaN  The Tramp cares for an abandoned child, but ev...  \n",
       "5           NaN    NaN  On New Year's Eve, the driver of a ghostly car...  \n",
       "...         ...    ...                                                ...  \n",
       "9994   898575.0    NaN  Following a group of friends from university a...  \n",
       "9999        NaN    NaN  In the rural heartlands of India, an upright p...  \n",
       "\n",
       "[300 rows x 10 columns]"
      ]
     },
     "execution_count": 13,
     "metadata": {},
     "output_type": "execute_result"
    }
   ],
   "source": [
    "def manj_ali_enako_besed(x, st_besed=2):\n",
    "    return len(x.split()) <= st_besed\n",
    "\n",
    "kratki = filmi[\"naslov\"].apply(manj_ali_enako_besed)\n",
    "filmi[kratki & (filmi[\"ocena\"] > 8)]"
   ]
  },
  {
   "cell_type": "markdown",
   "metadata": {},
   "source": [
    "### Histogrami\n",
    "\n",
    "Združite filme po ocenah in jih preštejte."
   ]
  },
  {
   "cell_type": "code",
   "execution_count": 14,
   "metadata": {},
   "outputs": [
    {
     "data": {
      "text/plain": [
       "ocena\n",
       "1.0    1\n",
       "1.4    3\n",
       "      ..\n",
       "9.4    1\n",
       "9.5    1\n",
       "Length: 82, dtype: int64"
      ]
     },
     "execution_count": 14,
     "metadata": {},
     "output_type": "execute_result"
    }
   ],
   "source": [
    "st_ocen = filmi.groupby(\"ocena\").size()\n",
    "st_ocen"
   ]
  },
  {
   "cell_type": "markdown",
   "metadata": {},
   "source": [
    "Naredite stolpični diagram teh podatkov."
   ]
  },
  {
   "cell_type": "code",
   "execution_count": 15,
   "metadata": {},
   "outputs": [
    {
     "data": {
      "text/plain": [
       "<matplotlib.axes._subplots.AxesSubplot at 0xd1f8f30>"
      ]
     },
     "execution_count": 15,
     "metadata": {},
     "output_type": "execute_result"
    },
    {
     "data": {
      "image/png": "[encoded data removed]",
      "text/plain": [
       "<Figure size 432x288 with 1 Axes>"
      ]
     },
     "metadata": {
      "needs_background": "light"
     },
     "output_type": "display_data"
    }
   ],
   "source": [
    "st_ocen.plot.bar()"
   ]
  },
  {
   "cell_type": "markdown",
   "metadata": {},
   "source": [
    "Tabele imajo metodo `.hist()`, ki omogoča izgradnjo histogramov za stolpce. Uporabite to metodo za prikaz poenostavljenih podatkov."
   ]
  },
  {
   "cell_type": "code",
   "execution_count": 16,
   "metadata": {},
   "outputs": [
    {
     "data": {
      "text/plain": [
       "<matplotlib.axes._subplots.AxesSubplot at 0xe3b6ef0>"
      ]
     },
     "execution_count": 16,
     "metadata": {},
     "output_type": "execute_result"
    },
    {
     "data": {
      "image/png": "[encoded data removed]",
      "text/plain": [
       "<Figure size 432x288 with 1 Axes>"
      ]
     },
     "metadata": {
      "needs_background": "light"
     },
     "output_type": "display_data"
    }
   ],
   "source": [
    "filmi[\"ocena\"].hist()"
   ]
  },
  {
   "cell_type": "markdown",
   "metadata": {},
   "source": [
    "### Izris povprečne dolžine filma glede na leto"
   ]
  },
  {
   "cell_type": "code",
   "execution_count": 17,
   "metadata": {},
   "outputs": [
    {
     "data": {
      "text/plain": [
       "<matplotlib.axes._subplots.AxesSubplot at 0xe420730>"
      ]
     },
     "execution_count": 17,
     "metadata": {},
     "output_type": "execute_result"
    },
    {
     "data": {
      "image/png": "[encoded data removed]",
      "text/plain": [
       "<Figure size 432x288 with 1 Axes>"
      ]
     },
     "metadata": {
      "needs_background": "light"
     },
     "output_type": "display_data"
    }
   ],
   "source": [
    "po_letu = filmi.groupby(\"leto\")\n",
    "(po_letu.mean()[\"dolzina\"]).plot()\n",
    "(po_letu.size()).plot()"
   ]
  },
  {
   "cell_type": "markdown",
   "metadata": {},
   "source": [
    "### Izris skupnega zasluzka za posamezno leto"
   ]
  },
  {
   "cell_type": "code",
   "execution_count": 18,
   "metadata": {},
   "outputs": [
    {
     "data": {
      "text/plain": [
       "<matplotlib.axes._subplots.AxesSubplot at 0xe4209f0>"
      ]
     },
     "execution_count": 18,
     "metadata": {},
     "output_type": "execute_result"
    },
    {
     "data": {
      "image/png": "[encoded data removed]",
      "text/plain": [
       "<Figure size 432x288 with 1 Axes>"
      ]
     },
     "metadata": {
      "needs_background": "light"
     },
     "output_type": "display_data"
    }
   ],
   "source": [
    "(po_letu.sum()[\"zasluzek\"]).plot()"
   ]
  },
  {
   "cell_type": "code",
   "execution_count": 19,
   "metadata": {},
   "outputs": [
    {
     "data": {
      "text/plain": [
       "<matplotlib.axes._subplots.AxesSubplot at 0xf48ecd0>"
      ]
     },
     "execution_count": 19,
     "metadata": {},
     "output_type": "execute_result"
    },
    {
     "data": {
      "image/png": "[encoded data removed]",
      "text/plain": [
       "<Figure size 432x288 with 1 Axes>"
      ]
     },
     "metadata": {
      "needs_background": "light"
     },
     "output_type": "display_data"
    }
   ],
   "source": [
    "(po_letu.mean()[\"zasluzek\"]).plot()"
   ]
  },
  {
   "cell_type": "code",
   "execution_count": null,
   "metadata": {},
   "outputs": [],
   "source": []
  }
 ],
 "metadata": {
  "kernelspec": {
   "display_name": "Python 3",
   "language": "python",
   "name": "python3"
  },
  "language_info": {
   "codemirror_mode": {
    "name": "ipython",
    "version": 3
   },
   "file_extension": ".py",
   "mimetype": "text/x-python",
   "name": "python",
   "nbconvert_exporter": "python",
   "pygments_lexer": "ipython3",
   "version": "3.7.4"
  }
 },
 "nbformat": 4,
 "nbformat_minor": 2
}
