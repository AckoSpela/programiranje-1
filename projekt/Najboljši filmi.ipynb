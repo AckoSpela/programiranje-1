{
 "cells": [
  {
   "cell_type": "markdown",
   "metadata": {},
   "source": [
    "# Najboljši filmi\n",
    "\n",
    "Vzorčni projekt pri Programiranju 1 z namenom analize ocen, žanrov in igralcev izbranih filmov."
   ]
  },
  {
   "cell_type": "markdown",
   "metadata": {},
   "source": [
    "## Predpriprava\n",
    "\n",
    "Na začetku naložimo paket in razpredelnice. Če CSV datoteke še ne obstajajo, jih najprej ustvarimo s pomočjo skripte `ustvari_csv.py`."
   ]
  },
  {
   "cell_type": "code",
   "execution_count": 8,
   "metadata": {
    "collapsed": true
   },
   "outputs": [],
   "source": [
    "import pandas as pd\n",
    "\n",
    "pd.options.display.max_rows = 30\n",
    "pd.options.display.max_columns = 16\n",
    "\n",
    "filmi = pd.read_csv('csv-datoteke/filmi.csv', index_col='id')\n",
    "igralci = pd.read_csv('csv-datoteke/igralci.csv', index_col='id')\n",
    "zanri = pd.read_csv('csv-datoteke/zanri.csv', index_col='id')\n",
    "vloge = pd.read_csv('csv-datoteke/vloge.csv')\n",
    "dolocitve_zanra = pd.read_csv('csv-datoteke/dolocitve_zanra.csv')\n",
    "rotten = pd.read_csv('csv-datoteke/rotten.csv', index_col='id')"
   ]
  },
  {
   "cell_type": "code",
   "execution_count": null,
   "metadata": {
    "collapsed": false
   },
   "outputs": [],
   "source": [
    "%matplotlib"
   ]
  },
  {
   "cell_type": "markdown",
   "metadata": {},
   "source": [
    "Večina podatkov je zajetih s strani IMDB in že ustrezno očiščenih. Dodati moramo le še ocene kritikov, ki smo jih zajeli s strani Rotten Tomatoes. Edini skupni atribut, po katerem lahko ujemamo podatke, sta naslov in leto filma, pri čemer moramo upoštevati, da se naslovi lahko razlikujejo (ločila, naglasi, …). Zato pri obeh razpredelnicah dodamo še stolpec z očiščenim imenom."
   ]
  },
  {
   "cell_type": "code",
   "execution_count": 6,
   "metadata": {
    "collapsed": false
   },
   "outputs": [],
   "source": [
    "# knjižnico unidecode moramo poprej namestiti\n",
    "from unidecode import unidecode\n",
    "\n",
    "def pocisti_naslov(naslov):\n",
    "    # uredimo Unicode (npr. š se pretvori v s + strehica)\n",
    "    naslov = unidecode(naslov)\n",
    "    # naslov pretvorimo v ASCII, s čimer se znebimo naglasov\n",
    "    naslov = naslov.lower()\n",
    "    # če je na začetku \"the\", \"a\" ali \"an\", jih pobrišemo\n",
    "    if naslov[:2] == 'a ':\n",
    "        naslov = naslov[2:]\n",
    "    elif naslov[:3] == 'an ':\n",
    "        naslov = naslov[3:]\n",
    "    elif naslov[:4] == 'the ':\n",
    "        naslov = naslov[4:]\n",
    "    # pobrišemo morebitni alternativni naslov (kar sledi prvemu oklepaju)\n",
    "    if '(' in naslov:\n",
    "        naslov = naslov[:naslov.find('(')]\n",
    "    # pobrišemo vse znake, ki niso črke\n",
    "    naslov = ''.join(znak for znak in naslov if 'a' <= znak <= 'z')\n",
    "    return naslov\n",
    "\n",
    "rotten['pociscen_naslov'] = rotten['naslov'].map(pocisti_naslov)\n",
    "filmi['pociscen_naslov'] = filmi['naslov'].map(pocisti_naslov)"
   ]
  },
  {
   "cell_type": "markdown",
   "metadata": {},
   "source": [
    "## Analiza"
   ]
  },
  {
   "cell_type": "markdown",
   "metadata": {},
   "source": [
    "### Korelacija med ocenami\n",
    "\n",
    "Ali so ocene gledalcev in kritikov usklajene med sabo?"
   ]
  },
  {
   "cell_type": "code",
   "execution_count": 4,
   "metadata": {
    "collapsed": false
   },
   "outputs": [
    {
     "data": {
      "text/plain": [
       "<matplotlib.axes._subplots.AxesSubplot at 0x111b3bba8>"
      ]
     },
     "execution_count": 4,
     "metadata": {},
     "output_type": "execute_result"
    }
   ],
   "source": [
    "pd.merge(filmi, rotten, on=['pociscen_naslov', 'leto'], how='left', suffixes=('','_rotten')).plot.scatter('ocena', 'ocena_rotten')"
   ]
  },
  {
   "cell_type": "markdown",
   "metadata": {},
   "source": [
    "### Povprečne ocene igralcev"
   ]
  },
  {
   "cell_type": "code",
   "execution_count": 7,
   "metadata": {
    "collapsed": false
   },
   "outputs": [
    {
     "data": {
      "text/html": [
       "<div>\n",
       "<table border=\"1\" class=\"dataframe\">\n",
       "  <thead>\n",
       "    <tr style=\"text-align: right;\">\n",
       "      <th></th>\n",
       "      <th>film</th>\n",
       "      <th>leto</th>\n",
       "      <th>ocena</th>\n",
       "      <th>ime</th>\n",
       "    </tr>\n",
       "    <tr>\n",
       "      <th>igralec</th>\n",
       "      <th></th>\n",
       "      <th></th>\n",
       "      <th></th>\n",
       "      <th></th>\n",
       "    </tr>\n",
       "  </thead>\n",
       "  <tbody>\n",
       "    <tr>\n",
       "      <th>86268</th>\n",
       "      <td>40457</td>\n",
       "      <td>1948.0</td>\n",
       "      <td>7.00</td>\n",
       "      <td>Janet Blair</td>\n",
       "    </tr>\n",
       "    <tr>\n",
       "      <th>2013</th>\n",
       "      <td>40546</td>\n",
       "      <td>1948.0</td>\n",
       "      <td>7.00</td>\n",
       "      <td>Charles Coburn</td>\n",
       "    </tr>\n",
       "    <tr>\n",
       "      <th>85782</th>\n",
       "      <td>49006</td>\n",
       "      <td>1956.0</td>\n",
       "      <td>7.00</td>\n",
       "      <td>Sidney Blackmer</td>\n",
       "    </tr>\n",
       "    <tr>\n",
       "      <th>526485</th>\n",
       "      <td>43660</td>\n",
       "      <td>1951.0</td>\n",
       "      <td>7.00</td>\n",
       "      <td>William Lundigan</td>\n",
       "    </tr>\n",
       "    <tr>\n",
       "      <th>898687</th>\n",
       "      <td>38360</td>\n",
       "      <td>1946.0</td>\n",
       "      <td>7.00</td>\n",
       "      <td>June Vincent</td>\n",
       "    </tr>\n",
       "    <tr>\n",
       "      <th>583093</th>\n",
       "      <td>47417</td>\n",
       "      <td>1954.0</td>\n",
       "      <td>7.00</td>\n",
       "      <td>Emile Meyer</td>\n",
       "    </tr>\n",
       "    <tr>\n",
       "      <th>141681</th>\n",
       "      <td>40457</td>\n",
       "      <td>1948.0</td>\n",
       "      <td>7.00</td>\n",
       "      <td>Janis Carter</td>\n",
       "    </tr>\n",
       "    <tr>\n",
       "      <th>137023</th>\n",
       "      <td>23818</td>\n",
       "      <td>1933.0</td>\n",
       "      <td>7.00</td>\n",
       "      <td>Philip Carey</td>\n",
       "    </tr>\n",
       "    <tr>\n",
       "      <th>...</th>\n",
       "      <td>...</td>\n",
       "      <td>...</td>\n",
       "      <td>...</td>\n",
       "      <td>...</td>\n",
       "    </tr>\n",
       "    <tr>\n",
       "      <th>1960</th>\n",
       "      <td>3527510</td>\n",
       "      <td>2015.0</td>\n",
       "      <td>9.60</td>\n",
       "      <td>Romane Bohringer</td>\n",
       "    </tr>\n",
       "    <tr>\n",
       "      <th>7303945</th>\n",
       "      <td>4659548</td>\n",
       "      <td>2016.0</td>\n",
       "      <td>9.60</td>\n",
       "      <td>Shashank Singh</td>\n",
       "    </tr>\n",
       "    <tr>\n",
       "      <th>7303946</th>\n",
       "      <td>4659548</td>\n",
       "      <td>2016.0</td>\n",
       "      <td>9.60</td>\n",
       "      <td>Mantra</td>\n",
       "    </tr>\n",
       "    <tr>\n",
       "      <th>7303944</th>\n",
       "      <td>4659548</td>\n",
       "      <td>2016.0</td>\n",
       "      <td>9.60</td>\n",
       "      <td>Prince Shah</td>\n",
       "    </tr>\n",
       "    <tr>\n",
       "      <th>4723934</th>\n",
       "      <td>3527510</td>\n",
       "      <td>2015.0</td>\n",
       "      <td>9.60</td>\n",
       "      <td>Nermina Lukac</td>\n",
       "    </tr>\n",
       "    <tr>\n",
       "      <th>2093424</th>\n",
       "      <td>5338070</td>\n",
       "      <td>2015.5</td>\n",
       "      <td>9.75</td>\n",
       "      <td>Sandy Sparks</td>\n",
       "    </tr>\n",
       "    <tr>\n",
       "      <th>7064762</th>\n",
       "      <td>5338070</td>\n",
       "      <td>2015.5</td>\n",
       "      <td>9.75</td>\n",
       "      <td>Cody Heuer</td>\n",
       "    </tr>\n",
       "    <tr>\n",
       "      <th>4094736</th>\n",
       "      <td>5338070</td>\n",
       "      <td>2015.5</td>\n",
       "      <td>9.75</td>\n",
       "      <td>Jackie Manker</td>\n",
       "    </tr>\n",
       "  </tbody>\n",
       "</table>\n",
       "<p>5785 rows × 4 columns</p>\n",
       "</div>"
      ],
      "text/plain": [
       "            film    leto  ocena               ime\n",
       "igralec                                          \n",
       "86268      40457  1948.0   7.00       Janet Blair\n",
       "2013       40546  1948.0   7.00    Charles Coburn\n",
       "85782      49006  1956.0   7.00   Sidney Blackmer\n",
       "526485     43660  1951.0   7.00  William Lundigan\n",
       "898687     38360  1946.0   7.00      June Vincent\n",
       "583093     47417  1954.0   7.00       Emile Meyer\n",
       "141681     40457  1948.0   7.00      Janis Carter\n",
       "137023     23818  1933.0   7.00      Philip Carey\n",
       "...          ...     ...    ...               ...\n",
       "1960     3527510  2015.0   9.60  Romane Bohringer\n",
       "7303945  4659548  2016.0   9.60    Shashank Singh\n",
       "7303946  4659548  2016.0   9.60            Mantra\n",
       "7303944  4659548  2016.0   9.60       Prince Shah\n",
       "4723934  3527510  2015.0   9.60     Nermina Lukac\n",
       "2093424  5338070  2015.5   9.75      Sandy Sparks\n",
       "7064762  5338070  2015.5   9.75        Cody Heuer\n",
       "4094736  5338070  2015.5   9.75     Jackie Manker\n",
       "\n",
       "[5785 rows x 4 columns]"
      ]
     },
     "execution_count": 7,
     "metadata": {},
     "output_type": "execute_result"
    }
   ],
   "source": [
    "vloge\\\n",
    "    .join(filmi, on='film')\\\n",
    "    .groupby('igralec')\\\n",
    "    .mean()\\\n",
    "    .sort_values('ocena')\\\n",
    "    .join(igralci)"
   ]
  },
  {
   "cell_type": "markdown",
   "metadata": {},
   "source": [
    "### Popularnost žanrov"
   ]
  },
  {
   "cell_type": "code",
   "execution_count": null,
   "metadata": {
    "collapsed": false
   },
   "outputs": [],
   "source": [
    "filmi['desetletje'] = 10 * (filmi['leto'] // 10)\n",
    "dolocitve_zanra\\\n",
    "    .join(filmi, on='film')\\\n",
    "    .groupby(['desetletje', 'zanr'])\\\n",
    "    .size()\\\n",
    "    .unstack()\\\n",
    "    .apply(lambda x: x / x.sum(), axis=1)\\\n",
    "    .plot(kind='area')"
   ]
  },
  {
   "cell_type": "markdown",
   "metadata": {},
   "source": [
    "## Avtomatično določanje žanrov"
   ]
  },
  {
   "cell_type": "code",
   "execution_count": 21,
   "metadata": {
    "collapsed": true
   },
   "outputs": [],
   "source": [
    "import orodja\n",
    "\n",
    "\n",
    "zanri_korenov = pd.read_csv('csv-datoteke/zanri_korenov.csv', index_col='koren') + 1\n",
    "verjetnost_zanra = dolocitve_zanra.groupby('zanr').size() / len(filmi)\n",
    "verjetnost_korena_pri_zanru = zanri_korenov / zanri_korenov.sum()\n",
    "\n",
    "def doloci_zanre(opis):\n",
    "    koreni_opisa = sorted(orodja.koreni_besed(opis))\n",
    "    verjetnosti = verjetnost_korena_pri_zanru[verjetnost_korena_pri_zanru.index.isin(koreni_opisa)]\n",
    "    faktorji_zanrov = verjetnosti.prod() * verjetnost_zanra\n",
    "    faktorji_zanrov /= max(faktorji_zanrov)\n",
    "    return faktorji_zanrov.sort_values(ascending=False).head(5)"
   ]
  },
  {
   "cell_type": "code",
   "execution_count": 22,
   "metadata": {
    "collapsed": false
   },
   "outputs": [
    {
     "data": {
      "text/plain": [
       "action       1.000000\n",
       "adventure    0.211980\n",
       "drama        0.021111\n",
       "thriller     0.007091\n",
       "sci_fi       0.007005\n",
       "dtype: float64"
      ]
     },
     "execution_count": 22,
     "metadata": {},
     "output_type": "execute_result"
    }
   ],
   "source": [
    "doloci_zanre(\"A group of intergalactic criminals are forced to work together to stop a fanatical warrior from taking control of the universe.\")"
   ]
  },
  {
   "cell_type": "code",
   "execution_count": 23,
   "metadata": {
    "collapsed": false
   },
   "outputs": [
    {
     "data": {
      "text/plain": [
       "action       1.000000\n",
       "sci_fi       0.110356\n",
       "thriller     0.023182\n",
       "adventure    0.007143\n",
       "comedy       0.006247\n",
       "dtype: float64"
      ]
     },
     "execution_count": 23,
     "metadata": {},
     "output_type": "execute_result"
    }
   ],
   "source": [
    "doloci_zanre(\"Earth's mightiest heroes must come together and learn to fight as a team if they are to stop the mischievous Loki and his alien army from enslaving humanity.\")"
   ]
  },
  {
   "cell_type": "code",
   "execution_count": 28,
   "metadata": {
    "collapsed": false
   },
   "outputs": [
    {
     "data": {
      "text/plain": [
       "drama        1.000000\n",
       "adventure    0.050116\n",
       "comedy       0.035726\n",
       "thriller     0.010064\n",
       "action       0.004502\n",
       "dtype: float64"
      ]
     },
     "execution_count": 28,
     "metadata": {},
     "output_type": "execute_result"
    }
   ],
   "source": [
    "doloci_zanre(\"When Dr Jane Foster gets cursed with a powerful object, Thor must protect it before an army and its ruthless leader try to get their hands on it to take over the remains of Earth.\")"
   ]
  },
  {
   "cell_type": "code",
   "execution_count": null,
   "metadata": {
    "collapsed": true
   },
   "outputs": [],
   "source": []
  }
 ],
 "metadata": {
  "kernelspec": {
   "display_name": "Python 3",
   "language": "python",
   "name": "python3"
  },
  "language_info": {
   "codemirror_mode": {
    "name": "ipython",
    "version": 3
   },
   "file_extension": ".py",
   "mimetype": "text/x-python",
   "name": "python",
   "nbconvert_exporter": "python",
   "pygments_lexer": "ipython3",
   "version": "3.5.0"
  }
 },
 "nbformat": 4,
 "nbformat_minor": 0
}
